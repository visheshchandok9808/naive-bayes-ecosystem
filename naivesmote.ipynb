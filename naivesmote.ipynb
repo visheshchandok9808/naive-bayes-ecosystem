{
 "cells": [
  {
   "cell_type": "code",
   "execution_count": 1,
   "id": "2201ebb2",
   "metadata": {},
   "outputs": [],
   "source": [
    "import pandas as pd\n",
    "from sklearn.naive_bayes import GaussianNB\n",
    "from sklearn.model_selection import train_test_split\n",
    "from imblearn.over_sampling import SMOTE\n",
    "import pickle\n",
    "\n",
    "# Load the dataset\n",
    "df = pd.read_csv(\"ecosystem_data.csv\")\n"
   ]
  },
  {
   "cell_type": "code",
   "execution_count": 2,
   "id": "dccc6877",
   "metadata": {},
   "outputs": [],
   "source": [
    "df['ecosystem_health'] = df['ecosystem_health'].map({\n",
    "    'healthy': 0, 'at risk': 1, 'degraded': 2\n",
    "})"
   ]
  },
  {
   "cell_type": "code",
   "execution_count": 3,
   "id": "ea83d752",
   "metadata": {},
   "outputs": [],
   "source": [
    "X = df.drop('ecosystem_health', axis=1)\n",
    "y = df['ecosystem_health']\n"
   ]
  },
  {
   "cell_type": "code",
   "execution_count": 6,
   "id": "4f0c1877",
   "metadata": {},
   "outputs": [
    {
     "name": "stderr",
     "output_type": "stream",
     "text": [
      "/Users/vishesh/Library/Python/3.9/lib/python/site-packages/sklearn/base.py:474: FutureWarning: `BaseEstimator._validate_data` is deprecated in 1.6 and will be removed in 1.7. Use `sklearn.utils.validation.validate_data` instead. This function becomes public and is part of the scikit-learn developer API.\n",
      "  warnings.warn(\n"
     ]
    },
    {
     "data": {
      "text/plain": [
       "ecosystem_health\n",
       "2    8761\n",
       "1    8761\n",
       "0    8761\n",
       "Name: count, dtype: int64"
      ]
     },
     "execution_count": 6,
     "metadata": {},
     "output_type": "execute_result"
    }
   ],
   "source": [
    "smote=SMOTE(sampling_strategy='minority')\n",
    "X,y=smote.fit_resample(X,y)\n",
    "y.value_counts()"
   ]
  },
  {
   "cell_type": "code",
   "execution_count": 7,
   "id": "95ca058c",
   "metadata": {},
   "outputs": [
    {
     "name": "stdout",
     "output_type": "stream",
     "text": [
      "✅ Model trained on SMOTE-balanced data and saved as 'naive_bayes_ecosystem_model.pkl'\n"
     ]
    }
   ],
   "source": [
    "model = GaussianNB()\n",
    "model.fit(X, y)\n",
    "\n",
    "# Save the trained model\n",
    "with open(\"naive_bayes_ecosystem_model.pkl\", \"wb\") as file:\n",
    "    pickle.dump(model, file)\n",
    "\n",
    "print(\"✅ Model trained on SMOTE-balanced data and saved as 'naive_bayes_ecosystem_model.pkl'\")"
   ]
  },
  {
   "cell_type": "code",
   "execution_count": null,
   "id": "4b511710",
   "metadata": {},
   "outputs": [],
   "source": []
  }
 ],
 "metadata": {
  "kernelspec": {
   "display_name": "Python 3",
   "language": "python",
   "name": "python3"
  },
  "language_info": {
   "codemirror_mode": {
    "name": "ipython",
    "version": 3
   },
   "file_extension": ".py",
   "mimetype": "text/x-python",
   "name": "python",
   "nbconvert_exporter": "python",
   "pygments_lexer": "ipython3",
   "version": "3.9.6"
  }
 },
 "nbformat": 4,
 "nbformat_minor": 5
}
